{
 "cells": [
  {
   "cell_type": "code",
   "execution_count": 1,
   "id": "ambient-oliver",
   "metadata": {},
   "outputs": [],
   "source": [
    "import pandas as pd \n",
    "import numpy as np\n",
    "import matplotlib.pyplot as plt"
   ]
  },
  {
   "cell_type": "code",
   "execution_count": 2,
   "id": "prompt-sustainability",
   "metadata": {},
   "outputs": [],
   "source": [
    "data = pd.read_csv('national_parks.csv')"
   ]
  },
  {
   "cell_type": "code",
   "execution_count": 7,
   "id": "british-connection",
   "metadata": {},
   "outputs": [
    {
     "output_type": "execute_result",
     "data": {
      "text/plain": [
       "(57, 4)"
      ]
     },
     "metadata": {},
     "execution_count": 7
    }
   ],
   "source": [
    "data.shape"
   ]
  },
  {
   "cell_type": "code",
   "execution_count": 4,
   "id": "opposite-venue",
   "metadata": {},
   "outputs": [
    {
     "output_type": "execute_result",
     "data": {
      "text/plain": [
       "Index(['Year', 'Badlands', 'GrandCanyon', 'BryceCanyon'], dtype='object')"
      ]
     },
     "metadata": {},
     "execution_count": 4
    }
   ],
   "source": [
    "data.columns"
   ]
  },
  {
   "cell_type": "code",
   "execution_count": 5,
   "id": "chinese-amino",
   "metadata": {},
   "outputs": [
    {
     "output_type": "execute_result",
     "data": {
      "text/plain": [
       "   Year  Badlands  GrandCanyon  BryceCanyon\n",
       "0  1961    833300      1253000       264800\n",
       "1  1962   1044800      1447400       251000\n",
       "2  1963   1074000      1539500       289500\n",
       "3  1964   1079800      1576600       300300\n",
       "4  1965   1091300      1689200       366800"
      ],
      "text/html": "<div>\n<style scoped>\n    .dataframe tbody tr th:only-of-type {\n        vertical-align: middle;\n    }\n\n    .dataframe tbody tr th {\n        vertical-align: top;\n    }\n\n    .dataframe thead th {\n        text-align: right;\n    }\n</style>\n<table border=\"1\" class=\"dataframe\">\n  <thead>\n    <tr style=\"text-align: right;\">\n      <th></th>\n      <th>Year</th>\n      <th>Badlands</th>\n      <th>GrandCanyon</th>\n      <th>BryceCanyon</th>\n    </tr>\n  </thead>\n  <tbody>\n    <tr>\n      <th>0</th>\n      <td>1961</td>\n      <td>833300</td>\n      <td>1253000</td>\n      <td>264800</td>\n    </tr>\n    <tr>\n      <th>1</th>\n      <td>1962</td>\n      <td>1044800</td>\n      <td>1447400</td>\n      <td>251000</td>\n    </tr>\n    <tr>\n      <th>2</th>\n      <td>1963</td>\n      <td>1074000</td>\n      <td>1539500</td>\n      <td>289500</td>\n    </tr>\n    <tr>\n      <th>3</th>\n      <td>1964</td>\n      <td>1079800</td>\n      <td>1576600</td>\n      <td>300300</td>\n    </tr>\n    <tr>\n      <th>4</th>\n      <td>1965</td>\n      <td>1091300</td>\n      <td>1689200</td>\n      <td>366800</td>\n    </tr>\n  </tbody>\n</table>\n</div>"
     },
     "metadata": {},
     "execution_count": 5
    }
   ],
   "source": [
    "data.head()"
   ]
  },
  {
   "cell_type": "code",
   "execution_count": 6,
   "id": "guilty-lease",
   "metadata": {},
   "outputs": [
    {
     "output_type": "execute_result",
     "data": {
      "text/plain": [
       "Year           0\n",
       "Badlands       0\n",
       "GrandCanyon    0\n",
       "BryceCanyon    0\n",
       "dtype: int64"
      ]
     },
     "metadata": {},
     "execution_count": 6
    }
   ],
   "source": [
    "data.isna().sum()"
   ]
  },
  {
   "cell_type": "code",
   "execution_count": 17,
   "id": "choice-participant",
   "metadata": {},
   "outputs": [
    {
     "data": {
      "image/png": "[encoded data removed]",
      "text/plain": [
       "<Figure size 432x288 with 1 Axes>"
      ]
     },
     "metadata": {
      "needs_background": "light"
     },
     "output_type": "display_data"
    }
   ],
   "source": [
    "plt.hist(data['GrandCanyon'],facecolor = 'magenta', edgecolor = 'blue', bins = 10)\n",
    "plt.show()"
   ]
  },
  {
   "cell_type": "code",
   "execution_count": 18,
   "id": "posted-scoop",
   "metadata": {},
   "outputs": [
    {
     "data": {
      "text/plain": [
       "(array([ 5., 14., 24., 26., 27., 36., 52., 54., 55., 57.]),\n",
       " array([1253000. , 1753123.8, 2253247.6, 2753371.4, 3253495.2, 3753619. ,\n",
       "        4253742.8, 4753866.6, 5253990.4, 5754114.2, 6254238. ]),\n",
       " <BarContainer object of 10 artists>)"
      ]
     },
     "execution_count": 18,
     "metadata": {},
     "output_type": "execute_result"
    },
    {
     "data": {
      "image/png": "[encoded data removed]",
      "text/plain": [
       "<Figure size 432x288 with 1 Axes>"
      ]
     },
     "metadata": {
      "needs_background": "light"
     },
     "output_type": "display_data"
    }
   ],
   "source": [
    "plt.hist(data['GrandCanyon'], edgecolor='blue', facecolor='magenta',bins=10, cumulative=True)"
   ]
  },
  {
   "cell_type": "code",
   "execution_count": 27,
   "id": "tracked-router",
   "metadata": {},
   "outputs": [
    {
     "data": {
      "text/html": [
       "<div>\n",
       "<style scoped>\n",
       "    .dataframe tbody tr th:only-of-type {\n",
       "        vertical-align: middle;\n",
       "    }\n",
       "\n",
       "    .dataframe tbody tr th {\n",
       "        vertical-align: top;\n",
       "    }\n",
       "\n",
       "    .dataframe thead th {\n",
       "        text-align: right;\n",
       "    }\n",
       "</style>\n",
       "<table border=\"1\" class=\"dataframe\">\n",
       "  <thead>\n",
       "    <tr style=\"text-align: right;\">\n",
       "      <th></th>\n",
       "      <th>Year</th>\n",
       "      <th>Badlands</th>\n",
       "      <th>GrandCanyon</th>\n",
       "      <th>BryceCanyon</th>\n",
       "    </tr>\n",
       "  </thead>\n",
       "  <tbody>\n",
       "    <tr>\n",
       "      <th>0</th>\n",
       "      <td>1961</td>\n",
       "      <td>833300</td>\n",
       "      <td>1253000</td>\n",
       "      <td>264800</td>\n",
       "    </tr>\n",
       "    <tr>\n",
       "      <th>1</th>\n",
       "      <td>1962</td>\n",
       "      <td>1044800</td>\n",
       "      <td>1447400</td>\n",
       "      <td>251000</td>\n",
       "    </tr>\n",
       "    <tr>\n",
       "      <th>2</th>\n",
       "      <td>1963</td>\n",
       "      <td>1074000</td>\n",
       "      <td>1539500</td>\n",
       "      <td>289500</td>\n",
       "    </tr>\n",
       "    <tr>\n",
       "      <th>3</th>\n",
       "      <td>1964</td>\n",
       "      <td>1079800</td>\n",
       "      <td>1576600</td>\n",
       "      <td>300300</td>\n",
       "    </tr>\n",
       "    <tr>\n",
       "      <th>4</th>\n",
       "      <td>1965</td>\n",
       "      <td>1091300</td>\n",
       "      <td>1689200</td>\n",
       "      <td>366800</td>\n",
       "    </tr>\n",
       "    <tr>\n",
       "      <th>5</th>\n",
       "      <td>1966</td>\n",
       "      <td>1094800</td>\n",
       "      <td>1806000</td>\n",
       "      <td>396600</td>\n",
       "    </tr>\n",
       "    <tr>\n",
       "      <th>6</th>\n",
       "      <td>1967</td>\n",
       "      <td>1188700</td>\n",
       "      <td>1804900</td>\n",
       "      <td>295000</td>\n",
       "    </tr>\n",
       "    <tr>\n",
       "      <th>7</th>\n",
       "      <td>1968</td>\n",
       "      <td>1194600</td>\n",
       "      <td>1986300</td>\n",
       "      <td>320800</td>\n",
       "    </tr>\n",
       "    <tr>\n",
       "      <th>8</th>\n",
       "      <td>1969</td>\n",
       "      <td>1221300</td>\n",
       "      <td>2192600</td>\n",
       "      <td>366900</td>\n",
       "    </tr>\n",
       "    <tr>\n",
       "      <th>9</th>\n",
       "      <td>1970</td>\n",
       "      <td>1303100</td>\n",
       "      <td>2258200</td>\n",
       "      <td>345900</td>\n",
       "    </tr>\n",
       "  </tbody>\n",
       "</table>\n",
       "</div>"
      ],
      "text/plain": [
       "   Year  Badlands  GrandCanyon  BryceCanyon\n",
       "0  1961    833300      1253000       264800\n",
       "1  1962   1044800      1447400       251000\n",
       "2  1963   1074000      1539500       289500\n",
       "3  1964   1079800      1576600       300300\n",
       "4  1965   1091300      1689200       366800\n",
       "5  1966   1094800      1806000       396600\n",
       "6  1967   1188700      1804900       295000\n",
       "7  1968   1194600      1986300       320800\n",
       "8  1969   1221300      2192600       366900\n",
       "9  1970   1303100      2258200       345900"
      ]
     },
     "execution_count": 27,
     "metadata": {},
     "output_type": "execute_result"
    }
   ],
   "source": [
    "data2 = data.head(10)\n",
    "data2"
   ]
  },
  {
   "cell_type": "code",
   "execution_count": 39,
   "id": "terminal-motorcycle",
   "metadata": {},
   "outputs": [
    {
     "data": {
      "text/plain": [
       "<AxesSubplot:title={'center':'Grouped bars of first 10 years'}, xlabel='Year'>"
      ]
     },
     "execution_count": 39,
     "metadata": {},
     "output_type": "execute_result"
    },
    {
     "data": {
      "image/png": "[encoded data removed]",
      "text/plain": [
       "<Figure size 864x432 with 1 Axes>"
      ]
     },
     "metadata": {
      "needs_background": "light"
     },
     "output_type": "display_data"
    }
   ],
   "source": [
    "data2.plot(kind = 'bar', \n",
    "           x = 'Year', \n",
    "           stacked=False, title = 'Grouped bars of first 10 years', \n",
    "           figsize =(12,6),\n",
    "           fontsize = 10\n",
    "          )"
   ]
  },
  {
   "cell_type": "code",
   "execution_count": 59,
   "id": "pursuant-elimination",
   "metadata": {},
   "outputs": [
    {
     "data": {
      "text/plain": [
       "<BarContainer object of 10 artists>"
      ]
     },
     "execution_count": 59,
     "metadata": {},
     "output_type": "execute_result"
    },
    {
     "data": {
      "image/png": "[encoded data removed]",
      "text/plain": [
       "<Figure size 1080x432 with 1 Axes>"
      ]
     },
     "metadata": {
      "needs_background": "light"
     },
     "output_type": "display_data"
    }
   ],
   "source": [
    "sums = data2.sum(axis =1)\n",
    "years = data2['Year']\n",
    "plt.figure(figsize =(15,6))\n",
    "plt.xlabel('Year')\n",
    "plt.ylabel('Number of Visitors')\n",
    "plt.title('Number of visitors per year')\n",
    "plt.grid()\n",
    "plt.bar(years, sums, width= 0.4)"
   ]
  },
  {
   "cell_type": "code",
   "execution_count": 64,
   "id": "boxed-ordinary",
   "metadata": {},
   "outputs": [
    {
     "data": {
      "text/plain": [
       "<BarContainer object of 10 artists>"
      ]
     },
     "execution_count": 64,
     "metadata": {},
     "output_type": "execute_result"
    },
    {
     "data": {
      "image/png": "[encoded data removed]",
      "text/plain": [
       "<Figure size 1080x432 with 1 Axes>"
      ]
     },
     "metadata": {
      "needs_background": "light"
     },
     "output_type": "display_data"
    }
   ],
   "source": [
    "average = data2.mean(axis = 1)\n",
    "plt.figure(figsize =(15,6))\n",
    "plt.xlabel('Year')\n",
    "plt.ylabel('Average Number of Visitors')\n",
    "plt.title('Average Number of visitors per year')\n",
    "plt.grid()\n",
    "plt.bar(years, average, width= 0.4, color = 'm')"
   ]
  },
  {
   "cell_type": "code",
   "execution_count": 15,
   "id": "willing-diamond",
   "metadata": {},
   "outputs": [
    {
     "output_type": "stream",
     "name": "stdout",
     "text": [
      "Most number of viistor: 9882264in the year:{0}\nLeast number of visitor: 2353061\n"
     ]
    }
   ],
   "source": [
    "mostVisitors = data.sum(axis =1).max()\n",
    "leastVisitors = data.sum(axis = 1).min()\n",
    "print(\"Most number of viistor: {0}\".format(mostVisitors))\n",
    "print('Least number of visitor: {0}'.format(leastVisitors))"
   ]
  },
  {
   "cell_type": "code",
   "execution_count": null,
   "id": "terminal-cemetery",
   "metadata": {},
   "outputs": [],
   "source": []
  }
 ],
 "metadata": {
  "kernelspec": {
   "name": "python392jvsc74a57bd025bf1dab56f13e21d80318cd5e789e076f92a14fa9924f370a2a818164c863f4",
   "display_name": "Python 3.9.2 64-bit"
  },
  "language_info": {
   "codemirror_mode": {
    "name": "ipython",
    "version": 3
   },
   "file_extension": ".py",
   "mimetype": "text/x-python",
   "name": "python",
   "nbconvert_exporter": "python",
   "pygments_lexer": "ipython3",
   "version": "3.9.2"
  }
 },
 "nbformat": 4,
 "nbformat_minor": 5
}